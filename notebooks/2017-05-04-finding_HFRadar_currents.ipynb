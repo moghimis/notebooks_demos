{
 "cells": [
  {
   "cell_type": "markdown",
   "metadata": {},
   "source": [
    "# Fetching data from a CSW catalog with Python tools\n",
    "\n",
    "This notebook shows a typical workflow to query a [Catalog Service for the Web (CSW)](https://en.wikipedia.org/wiki/Catalog_Service_for_the_Web) and create a request for data endpoints that are suitable for download.\n",
    "\n",
    "In this queries multiple catalogs for the near real time HF-Radar current data.\n",
    "\n",
    "The first step is to create the data filter based on the geographical region bounding box, the time span, and the CF variable standard name."
   ]
  },
  {
   "cell_type": "code",
   "execution_count": 1,
   "metadata": {
    "collapsed": true
   },
   "outputs": [],
   "source": [
    "from datetime import datetime, timedelta\n",
    "\n",
    "# Region: West coast.\n",
    "min_lon, max_lon = -123, -121\n",
    "min_lat, max_lat = 36, 40\n",
    "\n",
    "bbox = [min_lon, min_lat, max_lon, max_lat]\n",
    "crs = 'urn:ogc:def:crs:OGC:1.3:CRS84'\n",
    "\n",
    "# Temporal range: past week.\n",
    "now = datetime.utcnow()\n",
    "start, stop = now - timedelta(days=(7)), now - timedelta(days=(14))\n",
    "\n",
    "# Surface velocity CF names.\n",
    "cf_names = ['surface_northward_sea_water_velocity',\n",
    "            'surface_eastward_sea_water_velocity']"
   ]
  },
  {
   "cell_type": "markdown",
   "metadata": {},
   "source": [
    "Now it is possible to assemble a [OGC Filter Encoding (FE)](http://www.opengeospatial.org/standards/filter) for the search using `owslib.fes`\\*. Note that the final result is only a list with all the filtering conditions.\n",
    "\n",
    "\\* OWSLib is a Python package for client programming with Open Geospatial Consortium (OGC) web service (hence OWS) interface standards, and their related content models."
   ]
  },
  {
   "cell_type": "code",
   "execution_count": 2,
   "metadata": {
    "collapsed": true
   },
   "outputs": [],
   "source": [
    "from owslib import fes\n",
    "\n",
    "\n",
    "def fes_date_filter(start, stop, constraint='overlaps'):\n",
    "    \"\"\"\n",
    "    Take datetime-like objects and returns a fes filter for date range\n",
    "    (begin and end inclusive).\n",
    "    NOTE: Truncates the minutes!!!\n",
    "\n",
    "    Examples\n",
    "    --------\n",
    "    >>> from datetime import datetime, timedelta\n",
    "    >>> stop = datetime(2010, 1, 1, 12, 30, 59).replace(tzinfo=pytz.utc)\n",
    "    >>> start = stop - timedelta(days=7)\n",
    "    >>> begin, end = fes_date_filter(start, stop, constraint='overlaps')\n",
    "    >>> begin.literal, end.literal\n",
    "    ('2010-01-01 12:00', '2009-12-25 12:00')\n",
    "    >>> begin.propertyoperator, end.propertyoperator\n",
    "    ('ogc:PropertyIsLessThanOrEqualTo', 'ogc:PropertyIsGreaterThanOrEqualTo')\n",
    "    >>> begin, end = fes_date_filter(start, stop, constraint='within')\n",
    "    >>> begin.literal, end.literal\n",
    "    ('2009-12-25 12:00', '2010-01-01 12:00')\n",
    "    >>> begin.propertyoperator, end.propertyoperator\n",
    "    ('ogc:PropertyIsGreaterThanOrEqualTo', 'ogc:PropertyIsLessThanOrEqualTo')\n",
    "\n",
    "    \"\"\"\n",
    "    start = start.strftime('%Y-%m-%d %H:00')\n",
    "    stop = stop.strftime('%Y-%m-%d %H:00')\n",
    "    if constraint == 'overlaps':\n",
    "        propertyname = 'apiso:TempExtent_begin'\n",
    "        begin = fes.PropertyIsLessThanOrEqualTo(propertyname=propertyname,\n",
    "                                                literal=stop)\n",
    "        propertyname = 'apiso:TempExtent_end'\n",
    "        end = fes.PropertyIsGreaterThanOrEqualTo(propertyname=propertyname,\n",
    "                                                 literal=start)\n",
    "    elif constraint == 'within':\n",
    "        propertyname = 'apiso:TempExtent_begin'\n",
    "        begin = fes.PropertyIsGreaterThanOrEqualTo(propertyname=propertyname,\n",
    "                                                   literal=start)\n",
    "        propertyname = 'apiso:TempExtent_end'\n",
    "        end = fes.PropertyIsLessThanOrEqualTo(propertyname=propertyname,\n",
    "                                              literal=stop)\n",
    "    else:\n",
    "        raise NameError('Unrecognized constraint {}'.format(constraint))\n",
    "    return begin, end"
   ]
  },
  {
   "cell_type": "code",
   "execution_count": 3,
   "metadata": {
    "collapsed": true
   },
   "outputs": [],
   "source": [
    "kw = dict(wildCard='*', escapeChar='\\\\',\n",
    "          singleChar='?', propertyname='apiso:AnyText')\n",
    "\n",
    "or_filt = fes.Or([fes.PropertyIsLike(literal=('*%s*' % val), **kw)\n",
    "                  for val in cf_names])\n",
    "\n",
    "# Exclude GNOME returns.\n",
    "not_filt = fes.Not([fes.PropertyIsLike(literal='*GNOME*', **kw)])\n",
    "\n",
    "begin, end = fes_date_filter(start, stop)\n",
    "bbox_crs = fes.BBox(bbox, crs=crs)\n",
    "filter_list = [fes.And([bbox_crs, begin, end, or_filt, not_filt])]"
   ]
  },
  {
   "cell_type": "markdown",
   "metadata": {},
   "source": [
    "It is possible to use the same filter to search multiple catalogs. The cell below loops over 3 catalogs hoping to find which one is more up-to-date and returns the near real time data."
   ]
  },
  {
   "cell_type": "code",
   "execution_count": 4,
   "metadata": {
    "collapsed": true
   },
   "outputs": [],
   "source": [
    "def get_csw_records(csw, filter_list, pagesize=10, maxrecords=1000):\n",
    "    \"\"\"Iterate `maxrecords`/`pagesize` times until the requested value in\n",
    "    `maxrecords` is reached.\n",
    "    \"\"\"\n",
    "    from owslib.fes import SortBy, SortProperty\n",
    "    # Iterate over sorted results.\n",
    "    sortby = SortBy([SortProperty('dc:title', 'ASC')])\n",
    "    csw_records = {}\n",
    "    startposition = 0\n",
    "    nextrecord = getattr(csw, 'results', 1)\n",
    "    while nextrecord != 0:\n",
    "        csw.getrecords2(constraints=filter_list, startposition=startposition,\n",
    "                        maxrecords=pagesize, sortby=sortby)\n",
    "        csw_records.update(csw.records)\n",
    "        if csw.results['nextrecord'] == 0:\n",
    "            break\n",
    "        startposition += pagesize + 1  # Last one is included.\n",
    "        if startposition >= maxrecords:\n",
    "            break\n",
    "    csw.records.update(csw_records)"
   ]
  },
  {
   "cell_type": "code",
   "execution_count": 5,
   "metadata": {
    "scrolled": false
   },
   "outputs": [
    {
     "name": "stdout",
     "output_type": "stream",
     "text": [
      "Found 7 records.\n",
      "\n",
      "[CeNCOOS/Models/ROMS/California ROMS/California Coastal Regional Ocean Modeling System (ROMS) Nowcast]: CA_DAS\n",
      "[HYbrid Coordinate Ocean Model (HYCOM): Global]: hycom_global\n",
      "[Near-Real Time Surface Ocean Velocity, U.S. West Coast,\n",
      "1 km Resolution]: e1a153d0-1ca6-476b-b08f-aced8c8a20ed\n",
      "[Near-Real Time Surface Ocean Velocity, U.S. West Coast,\n",
      "2 km Resolution]: 55c7a051-3074-4061-9fa0-8012cd26f4f8\n",
      "[Near-Real Time Surface Ocean Velocity, U.S. West Coast,\n",
      "500 m Resolution]: 8a0b8e3d-914a-4629-9f05-c1f12d17a24a\n",
      "[Near-Real Time Surface Ocean Velocity, U.S. West Coast,\n",
      "6 km Resolution]: c1fc179d-d567-4934-9720-29ae2b0f687c\n",
      "[UCSC California Current System ROMS Nowcast 10km]: UCSC\n"
     ]
    }
   ],
   "source": [
    "from owslib.csw import CatalogueServiceWeb\n",
    "\n",
    "\n",
    "endpoint = 'https://data.ioos.us/csw'\n",
    "\n",
    "csw = CatalogueServiceWeb(endpoint, timeout=60)\n",
    "get_csw_records(csw, filter_list, pagesize=10, maxrecords=1000)\n",
    "\n",
    "records = '\\n'.join(csw.records.keys())\n",
    "print('Found {} records.\\n'.format(len(csw.records.keys())))\n",
    "for key, value in list(csw.records.items()):\n",
    "    print('[{}]: {}'.format(value.title, key))"
   ]
  },
  {
   "cell_type": "markdown",
   "metadata": {},
   "source": [
    "# !!FIXME!!!\n",
    "\n",
    "None of those looks like NDBC endpotins!"
   ]
  },
  {
   "cell_type": "markdown",
   "metadata": {},
   "source": [
    "Found some weird named data (looks like `uuid`) and some model/reanalysis data, .\n",
    "The weird data may be what we are looking for.\n",
    "Let's dig further using the 6 km resolution data."
   ]
  },
  {
   "cell_type": "code",
   "execution_count": 6,
   "metadata": {},
   "outputs": [
    {
     "name": "stdout",
     "output_type": "stream",
     "text": [
      "Surface ocean velocities estimated from HF-Radar are\n",
      "representative of the upper 0.3 - 2.5 meters of the\n",
      "ocean.  The main objective of near-real time\n",
      "processing is to produce the best product from\n",
      "available data at the time of processing.  Radial\n",
      "velocity measurements are obtained from individual\n",
      "radar sites through the U.S. HF-Radar Network.\n",
      "Hourly radial data are processed by unweighted\n",
      "least-squares on a 6 km resolution grid of the U.S.\n",
      "West Coast to produce near real-time surface current\n",
      "maps.\n"
     ]
    }
   ],
   "source": [
    "value = csw.records['c1fc179d-d567-4934-9720-29ae2b0f687c']\n",
    "\n",
    "print(value.abstract)"
   ]
  },
  {
   "cell_type": "markdown",
   "metadata": {},
   "source": [
    "Based on the record abstract it seems that  this is exactly what we want.\n",
    "\n",
    "The next step is to inspect the type services/schemes available for downloading the data. The easiest way to accomplish that is with by \"sniffing\" the URLs with `geolinks`."
   ]
  },
  {
   "cell_type": "code",
   "execution_count": 7,
   "metadata": {
    "collapsed": true
   },
   "outputs": [],
   "source": [
    "from geolinks import sniff_link\n",
    "\n",
    "msg = 'geolink: {geolink}\\nscheme: {scheme}\\nURL: {url}\\n'.format\n",
    "for ref in value.references:\n",
    "    print(msg(geolink=sniff_link(ref['url']), **ref))"
   ]
  },
  {
   "cell_type": "markdown",
   "metadata": {},
   "source": [
    "# !!FIXME!!!\n",
    "\n",
    "We could not find anything with geolink. Let's try to investigate what we have in that record."
   ]
  },
  {
   "cell_type": "code",
   "execution_count": 8,
   "metadata": {},
   "outputs": [
    {
     "data": {
      "text/plain": [
       "['abstract',\n",
       " 'accessrights',\n",
       " 'alternative',\n",
       " 'bbox',\n",
       " 'bbox_wgs84',\n",
       " 'contributor',\n",
       " 'coverage',\n",
       " 'created',\n",
       " 'creator',\n",
       " 'date',\n",
       " 'format',\n",
       " 'identifier',\n",
       " 'identifiers',\n",
       " 'ispartof',\n",
       " 'issued',\n",
       " 'language',\n",
       " 'license',\n",
       " 'modified',\n",
       " 'publisher',\n",
       " 'rdf',\n",
       " 'references',\n",
       " 'relation',\n",
       " 'rights',\n",
       " 'rightsholder',\n",
       " 'source',\n",
       " 'spatial',\n",
       " 'subjects',\n",
       " 'temporal',\n",
       " 'title',\n",
       " 'type',\n",
       " 'uris',\n",
       " 'xml']"
      ]
     },
     "execution_count": 8,
     "metadata": {},
     "output_type": "execute_result"
    }
   ],
   "source": [
    "# all attributes\n",
    "attrs = [attr for attr in dir(value) if not attr.startswith('_')]\n",
    "attrs"
   ]
  },
  {
   "cell_type": "code",
   "execution_count": 9,
   "metadata": {},
   "outputs": [
    {
     "data": {
      "text/plain": [
       "['abstract',\n",
       " 'bbox',\n",
       " 'identifier',\n",
       " 'identifiers',\n",
       " 'modified',\n",
       " 'subjects',\n",
       " 'title',\n",
       " 'type',\n",
       " 'xml']"
      ]
     },
     "execution_count": 9,
     "metadata": {},
     "output_type": "execute_result"
    }
   ],
   "source": [
    "# those that are not empty\n",
    "nonzero = [attr for attr in attrs if getattr(value, attr)]\n",
    "nonzero"
   ]
  },
  {
   "cell_type": "code",
   "execution_count": 10,
   "metadata": {},
   "outputs": [
    {
     "name": "stdout",
     "output_type": "stream",
     "text": [
      "[abstract]: Surface ocean velocities estimated from HF-Radar are\n",
      "representative of the upper 0.3 - 2.5 meters of the\n",
      "ocean.  The main objective of near-real time\n",
      "processing is to produce the best product from\n",
      "available data at the time of processing.  Radial\n",
      "velocity measurements are obtained from individual\n",
      "radar sites through the U.S. HF-Radar Network.\n",
      "Hourly radial data are processed by unweighted\n",
      "least-squares on a 6 km resolution grid of the U.S.\n",
      "West Coast to produce near real-time surface current\n",
      "maps.\n",
      "\n",
      "[bbox]: <owslib.ows.BoundingBox object at 0x7fdd5d35f320>\n",
      "\n",
      "[identifier]: c1fc179d-d567-4934-9720-29ae2b0f687c\n",
      "\n",
      "[identifiers]: [{'scheme': None, 'identifier': 'c1fc179d-d567-4934-9720-29ae2b0f687c'}]\n",
      "\n",
      "[modified]: 2017-07-21\n",
      "\n",
      "[subjects]: ['surface_eastward_sea_water_velocity', 'surface_northward_sea_water_velocity', 'latitude', 'longitude', 'forecast_period', 'latitude', 'longitude', 'time', 'forecast_reference_time', 'climatologyMeteorologyAtmosphere']\n",
      "\n",
      "[title]: Near-Real Time Surface Ocean Velocity, U.S. West Coast,\n",
      "6 km Resolution\n",
      "\n",
      "[type]: dataset\n",
      "\n",
      "[xml]: b'<csw:SummaryRecord xmlns:csw=\"http://www.opengis.net/cat/csw/2.0.2\" xmlns:dc=\"http://purl.org/dc/elements/1.1/\" xmlns:inspire_common=\"http://inspire.ec.europa.eu/schemas/common/1.0\" xmlns:atom=\"http://www.w3.org/2005/Atom\" xmlns:xs=\"http://www.w3.org/2001/XMLSchema\" xmlns:dct=\"http://purl.org/dc/terms/\" xmlns:ows=\"http://www.opengis.net/ows\" xmlns:apiso=\"http://www.opengis.net/cat/csw/apiso/1.0\" xmlns:gml=\"http://www.opengis.net/gml\" xmlns:dif=\"http://gcmd.gsfc.nasa.gov/Aboutus/xml/dif/\" xmlns:xlink=\"http://www.w3.org/1999/xlink\" xmlns:gco=\"http://www.isotc211.org/2005/gco\" xmlns:gmd=\"http://www.isotc211.org/2005/gmd\" xmlns:rdf=\"http://www.w3.org/1999/02/22-rdf-syntax-ns#\" xmlns:srv=\"http://www.isotc211.org/2005/srv\" xmlns:ogc=\"http://www.opengis.net/ogc\" xmlns:fgdc=\"http://www.opengis.net/cat/csw/csdgm\" xmlns:inspire_ds=\"http://inspire.ec.europa.eu/schemas/inspire_ds/1.0\" xmlns:xsi=\"http://www.w3.org/2001/XMLSchema-instance\" xmlns:os=\"http://a9.com/-/spec/opensearch/1.1/\" xmlns:soapenv=\"http://www.w3.org/2003/05/soap-envelope\" xmlns:sitemap=\"http://www.sitemaps.org/schemas/sitemap/0.9\"><dc:identifier>c1fc179d-d567-4934-9720-29ae2b0f687c</dc:identifier><dc:title>Near-Real Time Surface Ocean Velocity, U.S. West Coast,\\n6 km Resolution</dc:title><dc:type>dataset</dc:type><dc:subject>surface_eastward_sea_water_velocity</dc:subject><dc:subject>surface_northward_sea_water_velocity</dc:subject><dc:subject>latitude</dc:subject><dc:subject>longitude</dc:subject><dc:subject>forecast_period</dc:subject><dc:subject>latitude</dc:subject><dc:subject>longitude</dc:subject><dc:subject>time</dc:subject><dc:subject>forecast_reference_time</dc:subject><dc:subject scheme=\"http://www.isotc211.org/2005/resources/Codelist/gmxCodelists.xml#MD_TopicCategoryCode\">climatologyMeteorologyAtmosphere</dc:subject><dc:relation/><dct:modified>2017-07-21</dct:modified><dct:abstract>Surface ocean velocities estimated from HF-Radar are\\nrepresentative of the upper 0.3 - 2.5 meters of the\\nocean.  The main objective of near-real time\\nprocessing is to produce the best product from\\navailable data at the time of processing.  Radial\\nvelocity measurements are obtained from individual\\nradar sites through the U.S. HF-Radar Network.\\nHourly radial data are processed by unweighted\\nleast-squares on a 6 km resolution grid of the U.S.\\nWest Coast to produce near real-time surface current\\nmaps.</dct:abstract><ows:BoundingBox crs=\"urn:x-ogc:def:crs:EPSG:6.11:4326\" dimensions=\"2\"><ows:LowerCorner>30.25 -130.36</ows:LowerCorner><ows:UpperCorner>49.99 -115.81</ows:UpperCorner></ows:BoundingBox></csw:SummaryRecord>'\n",
      "\n"
     ]
    }
   ],
   "source": [
    "# Let's print them out to see if we can find an endpoint to the data.\n",
    "\n",
    "for attr in nonzero:\n",
    "    print('[{}]: {}\\n'.format(attr, getattr(value, attr)))\n"
   ]
  },
  {
   "cell_type": "markdown",
   "metadata": {},
   "source": [
    "For a detailed description of what those `geolink` results mean check the [lookup](https://github.com/OSGeo/Cat-Interop/blob/master/LinkPropertyLookupTable.csv) table.\n",
    "There are Web Coverage Service (WCS), Web Map Service (WMS),\n",
    "direct links, and OPeNDAP (identified as `None` !?) services available.\n",
    "\n",
    "The easiest one to explore is the open OPeNDAP endpoint.\n",
    "The next 5 cells downloads and plot the current data for the day before,\n",
    "to check if the endpoint is indeed near real time."
   ]
  },
  {
   "cell_type": "markdown",
   "metadata": {},
   "source": [
    "# !!FIXME!!!\n",
    "\n",
    "Hardcoding the NDBC OPenDAP endpoint for now."
   ]
  },
  {
   "cell_type": "code",
   "execution_count": 11,
   "metadata": {
    "scrolled": false
   },
   "outputs": [
    {
     "data": {
      "text/plain": [
       "<xarray.Dataset>\n",
       "Dimensions:       (lat: 367, lon: 234, nProcParam: 7, nSites: 66, time: 126)\n",
       "Coordinates:\n",
       "  * lat           (lat) float32 30.25 30.3039 30.3579 30.4118 30.4658 ...\n",
       "  * lon           (lon) float32 -130.36 -130.298 -130.235 -130.173 -130.11 ...\n",
       "  * time          (time) |S64 b'2017-07-16T14:00:00Z' ...\n",
       "Dimensions without coordinates: nProcParam, nSites\n",
       "Data variables:\n",
       "    site_lat      (nSites) float32 ...\n",
       "    site_lon      (nSites) float32 ...\n",
       "    site_code     (nSites) |S64 ...\n",
       "    site_netCode  (nSites) |S64 ...\n",
       "    procParams    (nProcParam) float32 ...\n",
       "    u             (time, lat, lon) float64 ...\n",
       "    v             (time, lat, lon) float64 ...\n",
       "    DOPx          (time, lat, lon) float64 ...\n",
       "    DOPy          (time, lat, lon) float64 ...\n",
       "Attributes:\n",
       "    netcdf_library_version:  4.1.3\n",
       "    format_version:          HFRNet_1.0.0\n",
       "    product_version:         HFRNet_1.1.05\n",
       "    Conventions:             CF-1.1\n",
       "    title:                   Near-Real Time Surface Ocean Velocity, U.S. West...\n",
       "    institution:             National Data Buoy Center\n",
       "    source:                  Surface Ocean HF-Radar\n",
       "    history:                 21-Jul-2017 20:43:04: NetCDF file created\\n21-Ju...\n",
       "    references:              Terrill, E. et al., 2006. Data Management and Re...\n",
       "    creator_name:            NDBC Webmaster\n",
       "    creator_email:           webmaster.ndbc@noaa.gov\n",
       "    creator_url:             http://hfradar.ndbc.noaa.gov/\n",
       "    summary:                 Surface ocean velocities estimated from HF-Radar...\n",
       "    geospatial_lat_min:      30.25\n",
       "    geospatial_lat_max:      49.992\n",
       "    geospatial_lon_min:      -130.36\n",
       "    geospatial_lon_max:      -115.806\n",
       "    grid_resolution:         6km\n",
       "    grid_projection:         equidistant cylindrical\n",
       "    regional_description:    Unites States, West Coast\n",
       "    DODS.strlen:             25\n",
       "    DODS.dimName:            nSites_maxStrlen"
      ]
     },
     "execution_count": 11,
     "metadata": {},
     "output_type": "execute_result"
    }
   ],
   "source": [
    "import xarray as xr\n",
    "\n",
    "url = 'http://sdf.ndbc.noaa.gov/thredds/dodsC/hfradar_uswc_6km'\n",
    "\n",
    "ds = xr.open_dataset(url)\n",
    "ds"
   ]
  },
  {
   "cell_type": "markdown",
   "metadata": {},
   "source": [
    "Select \"yesterday\" data."
   ]
  },
  {
   "cell_type": "markdown",
   "metadata": {},
   "source": [
    "# !!FIXME!!!\n",
    "\n",
    "For some reason the dates are not CF-compliant and need to be parsed before we can work with them."
   ]
  },
  {
   "cell_type": "code",
   "execution_count": 12,
   "metadata": {
    "collapsed": true
   },
   "outputs": [],
   "source": [
    "ds['time'] = [datetime.strptime(date.decode(), '%Y-%m-%dT%H:%M:%SZ') for date in ds['time'].data]"
   ]
  },
  {
   "cell_type": "code",
   "execution_count": 13,
   "metadata": {
    "collapsed": true,
    "scrolled": true
   },
   "outputs": [],
   "source": [
    "from datetime import date, timedelta\n",
    "\n",
    "yesterday = date.today() - timedelta(days=1)\n",
    "\n",
    "ds = ds.sel(time=yesterday)"
   ]
  },
  {
   "cell_type": "markdown",
   "metadata": {},
   "source": [
    "Compute the speed while masking invalid values."
   ]
  },
  {
   "cell_type": "code",
   "execution_count": 14,
   "metadata": {
    "collapsed": true
   },
   "outputs": [],
   "source": [
    "import numpy.ma as ma\n",
    "\n",
    "u = ds['u'].data\n",
    "v = ds['v'].data\n",
    "\n",
    "lon = ds.coords['lon'].data\n",
    "lat = ds.coords['lat'].data\n",
    "time = ds.coords['time'].data\n",
    "\n",
    "u = ma.masked_invalid(u)\n",
    "v = ma.masked_invalid(v)"
   ]
  },
  {
   "cell_type": "markdown",
   "metadata": {},
   "source": [
    "This cell is only a trick to show all quiver arrows with the same length,\n",
    "for visualization purposes,\n",
    "and indicate the vector magnitude with colors instead."
   ]
  },
  {
   "cell_type": "code",
   "execution_count": 15,
   "metadata": {
    "collapsed": true
   },
   "outputs": [],
   "source": [
    "import numpy as np\n",
    "from oceans import uv2spdir, spdir2uv\n",
    "\n",
    "angle, speed = uv2spdir(u, v)\n",
    "us, vs = spdir2uv(np.ones_like(speed), angle, deg=True)"
   ]
  },
  {
   "cell_type": "code",
   "execution_count": 16,
   "metadata": {},
   "outputs": [
    {
     "data": {
      "text/plain": [
       "[<matplotlib.lines.Line2D at 0x7fdd3920bf60>]"
      ]
     },
     "execution_count": 16,
     "metadata": {},
     "output_type": "execute_result"
    },
    {
     "data": {
      "image/png": "[encoded data removed]",
      "text/plain": [
       "<matplotlib.figure.Figure at 0x7fdd2e1ffc18>"
      ]
     },
     "metadata": {},
     "output_type": "display_data"
    }
   ],
   "source": [
    "%matplotlib inline\n",
    "\n",
    "import cartopy.crs as ccrs\n",
    "import matplotlib.pyplot as plt\n",
    "\n",
    "from cartopy import feature\n",
    "from cartopy.mpl.gridliner import LONGITUDE_FORMATTER, LATITUDE_FORMATTER\n",
    "\n",
    "LAND = feature.NaturalEarthFeature('physical', 'land', '10m',\n",
    "                                   edgecolor='face',\n",
    "                                   facecolor='lightgray')\n",
    "\n",
    "sub = 2\n",
    "dx = dy = 0.5\n",
    "center = -122.416667, 37.783333  # San Francisco.\n",
    "bbox = lon.min(), lon.max(), lat.min(), lat.max()\n",
    "\n",
    "fig, (ax0, ax1) = plt.subplots(\n",
    "    ncols=2,\n",
    "    figsize=(15, 7),\n",
    "    subplot_kw=dict(projection=ccrs.PlateCarree())\n",
    ")\n",
    "\n",
    "\n",
    "ax0.set_extent(bbox)\n",
    "ax0.pcolormesh(lon, lat, ma.masked_invalid(speed))\n",
    "gl = ax0.gridlines(draw_labels=True)\n",
    "gl.xlabels_top = gl.ylabels_right = False\n",
    "gl.xformatter = LONGITUDE_FORMATTER\n",
    "gl.yformatter = LATITUDE_FORMATTER\n",
    "\n",
    "ax0.add_feature(LAND, zorder=0, edgecolor='black')\n",
    "\n",
    "\n",
    "ax1.set_extent([center[0]-dx-dx, center[0]+dx, center[1]-dy, center[1]+dy])\n",
    "ax1.quiver(lon[::sub], lat[::sub],\n",
    "           us[::sub, ::sub], vs[::sub, ::sub],\n",
    "           speed[::sub, ::sub], scale=30)\n",
    "gl = ax1.gridlines(draw_labels=True)\n",
    "gl.xlabels_top = gl.ylabels_right = False\n",
    "gl.xformatter = LONGITUDE_FORMATTER\n",
    "gl.yformatter = LATITUDE_FORMATTER\n",
    "\n",
    "ax1.add_feature(LAND, zorder=0, edgecolor='black')\n",
    "ax1.plot(ds['site_lon'], ds['site_lat'], marker='o', linestyle='none', color='darkorange')"
   ]
  },
  {
   "cell_type": "markdown",
   "metadata": {},
   "source": [
    "And here is yesterday's sea surface currents from the west coast with a zoom in the bay area.\n",
    "\n",
    "\n",
    "<br>\n",
    "Right click and choose Save link as... to\n",
    "[download](https://raw.githubusercontent.com/ioos/notebooks_demos/master/notebooks/2016-11-20-finding_HFRadar_currents.ipynb)\n",
    "this notebook, or see a static view\n",
    "[here](http://nbviewer.ipython.org/urls/raw.githubusercontent.com/ioos/notebooks_demos/master/notebooks/2016-11-20-finding_HFRadar_currents.ipynb)."
   ]
  },
  {
   "cell_type": "markdown",
   "metadata": {},
   "source": [
    "# !!FIXME!!!\n",
    "\n",
    "Retry the search without the date filter to check if we can find the NDBC data."
   ]
  },
  {
   "cell_type": "code",
   "execution_count": 17,
   "metadata": {},
   "outputs": [
    {
     "name": "stdout",
     "output_type": "stream",
     "text": [
      "Found 9 records.\n",
      "\n",
      "[Near-Real Time Surface Ocean Velocity, U.S. West Coast,\n",
      "1 km Resolution]: hfradar_uswc_1km\n",
      "[Near-Real Time Surface Ocean Velocity, U.S. West Coast,\n",
      "1 km Resolution]: e1a153d0-1ca6-476b-b08f-aced8c8a20ed\n",
      "[Near-Real Time Surface Ocean Velocity, U.S. West Coast,\n",
      "2 km Resolution]: hfradar_uswc_2km\n",
      "[Near-Real Time Surface Ocean Velocity, U.S. West Coast,\n",
      "2 km Resolution]: 55c7a051-3074-4061-9fa0-8012cd26f4f8\n",
      "[Near-Real Time Surface Ocean Velocity, U.S. West Coast,\n",
      "500 m Resolution]: 8a0b8e3d-914a-4629-9f05-c1f12d17a24a\n",
      "[Near-Real Time Surface Ocean Velocity, U.S. West Coast,\n",
      "500 m Resolution]: hfradar_uswc_500m\n",
      "[Near-Real Time Surface Ocean Velocity, U.S. West Coast,\n",
      "6 km Resolution]: hfradar_uswc_6km\n",
      "[Near-Real Time Surface Ocean Velocity, U.S. West Coast,\n",
      "6 km Resolution]: c1fc179d-d567-4934-9720-29ae2b0f687c\n",
      "[Ocean Surface Currents Monthly Averaged - CORDC High-Frequency Radar (US West Coast), 6 km]: CORDC_MONTHLY\n"
     ]
    }
   ],
   "source": [
    "filter_list = [\n",
    "    fes.And(\n",
    "        [\n",
    "            bbox_crs,\n",
    "            or_filt,\n",
    "            not_filt,\n",
    "            fes.Not([fes.PropertyIsLike(literal='*FVCOM*', **kw)]),\n",
    "            fes.Not([fes.PropertyIsLike(literal='*ROMS*', **kw)]),\n",
    "            fes.Not([fes.PropertyIsLike(literal='*SELFE*', **kw)]),\n",
    "            fes.Not([fes.PropertyIsLike(literal='*ncep_global*', **kw)]),\n",
    "            fes.Not([fes.PropertyIsLike(literal='*hycom_global*', **kw)]),\n",
    "        ]\n",
    "    )\n",
    "]\n",
    "\n",
    "\n",
    "csw = CatalogueServiceWeb(endpoint, timeout=60)\n",
    "get_csw_records(csw, filter_list, pagesize=10, maxrecords=1000)\n",
    "\n",
    "records = '\\n'.join(csw.records.keys())\n",
    "print('Found {} records.\\n'.format(len(csw.records.keys())))\n",
    "for key, value in list(csw.records.items()):\n",
    "    print('[{}]: {}'.format(value.title, key))"
   ]
  },
  {
   "cell_type": "code",
   "execution_count": 18,
   "metadata": {},
   "outputs": [
    {
     "name": "stdout",
     "output_type": "stream",
     "text": [
      "Surface ocean velocities estimated from HF-Radar are\n",
      "representative of the upper 0.3 - 2.5 meters of the\n",
      "ocean.  The main objective of near-real time\n",
      "processing is to produce the best product from\n",
      "available data at the time of processing.  Radial\n",
      "velocity measurements are obtained from individual\n",
      "radar sites through the U.S. HF-Radar Network.\n",
      "Hourly radial data are processed by unweighted\n",
      "least-squares on a 6 km resolution grid of the U.S.\n",
      "West Coast to produce near real-time surface current\n",
      "maps.\n"
     ]
    }
   ],
   "source": [
    "value = csw.records['hfradar_uswc_6km']\n",
    "\n",
    "print(value.abstract)"
   ]
  },
  {
   "cell_type": "code",
   "execution_count": 19,
   "metadata": {},
   "outputs": [
    {
     "name": "stdout",
     "output_type": "stream",
     "text": [
      "geolink: WWW:LINK\n",
      "scheme: WWW:LINK\n",
      "URL: http://sdf.ndbc.noaa.gov/thredds/dodsC/hfradar_uswc_6km.html\n",
      "\n",
      "geolink: None\n",
      "scheme: None\n",
      "URL: http://www.ncdc.noaa.gov/oa/wct/wct-jnlp-beta.php?singlefile=http://sdf.ndbc.noaa.gov/thredds/dodsC/hfradar_uswc_6km\n",
      "\n",
      "geolink: None\n",
      "scheme: None\n",
      "URL: http://sdf.ndbc.noaa.gov/thredds/dodsC/hfradar_uswc_6km\n",
      "\n",
      "geolink: OGC:WCS\n",
      "scheme: None\n",
      "URL: http://sdf.ndbc.noaa.gov/thredds/wcs/hfradar_uswc_6km?service=WCS&version=1.0.0&request=GetCapabilities\n",
      "\n",
      "geolink: UNIDATA:NCSS\n",
      "scheme: None\n",
      "URL: http://sdf.ndbc.noaa.gov/thredds/ncss/grid/hfradar_uswc_6km/dataset.html\n",
      "\n"
     ]
    }
   ],
   "source": [
    "from geolinks import sniff_link\n",
    "\n",
    "msg = 'geolink: {geolink}\\nscheme: {scheme}\\nURL: {url}\\n'.format\n",
    "for ref in value.references:\n",
    "    print(msg(geolink=sniff_link(ref['url']), **ref))"
   ]
  },
  {
   "cell_type": "code",
   "execution_count": 20,
   "metadata": {},
   "outputs": [
    {
     "data": {
      "text/plain": [
       "[{'scheme': 'WWW:LINK',\n",
       "  'url': 'http://sdf.ndbc.noaa.gov/thredds/dodsC/hfradar_uswc_6km.html'},\n",
       " {'scheme': 'None',\n",
       "  'url': 'http://www.ncdc.noaa.gov/oa/wct/wct-jnlp-beta.php?singlefile=http://sdf.ndbc.noaa.gov/thredds/dodsC/hfradar_uswc_6km'},\n",
       " {'scheme': 'None',\n",
       "  'url': 'http://sdf.ndbc.noaa.gov/thredds/dodsC/hfradar_uswc_6km'},\n",
       " {'scheme': 'None',\n",
       "  'url': 'http://sdf.ndbc.noaa.gov/thredds/wcs/hfradar_uswc_6km?service=WCS&version=1.0.0&request=GetCapabilities'},\n",
       " {'scheme': 'None',\n",
       "  'url': 'http://sdf.ndbc.noaa.gov/thredds/ncss/grid/hfradar_uswc_6km/dataset.html'}]"
      ]
     },
     "execution_count": 20,
     "metadata": {},
     "output_type": "execute_result"
    }
   ],
   "source": [
    "value.references"
   ]
  },
  {
   "cell_type": "markdown",
   "metadata": {},
   "source": [
    "# !!FIXME!!!\n",
    "\n",
    "It is worth noting that the OPeNDAP endpoint has both geolink and scheme as `None` making it impossible to identify automagically."
   ]
  }
 ],
 "metadata": {
  "kernelspec": {
   "display_name": "Python [default]",
   "language": "python",
   "name": "python3"
  },
  "language_info": {
   "codemirror_mode": {
    "name": "ipython",
    "version": 3
   },
   "file_extension": ".py",
   "mimetype": "text/x-python",
   "name": "python",
   "nbconvert_exporter": "python",
   "pygments_lexer": "ipython3",
   "version": "3.6.1"
  }
 },
 "nbformat": 4,
 "nbformat_minor": 1
}
